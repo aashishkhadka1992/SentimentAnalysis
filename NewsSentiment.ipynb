{
 "cells": [
  {
   "cell_type": "code",
   "execution_count": 1,
   "metadata": {},
   "outputs": [],
   "source": [
    "import numpy as np\n",
    "import pandas as pd\n",
    "import matplotlib.pyplot as plt\n",
    "%matplotlib inline\n",
    "from textblob import TextBlob"
   ]
  },
  {
   "cell_type": "code",
   "execution_count": 2,
   "metadata": {},
   "outputs": [],
   "source": [
    "import re\n",
    "import json\n",
    "import requests\n",
    "import NewsAPI_Credentials as nc"
   ]
  },
  {
   "cell_type": "code",
   "execution_count": 3,
   "metadata": {},
   "outputs": [],
   "source": [
    "keywords = ['Nextera Energy','Florida Power and Light']"
   ]
  },
  {
   "cell_type": "code",
   "execution_count": 4,
   "metadata": {},
   "outputs": [],
   "source": [
    "def clean_news(news):\n",
    "    return ' '.join(re.sub(\"(@[A-Za-z0-9]+)|([^0-9A-Za-z \\t])\\\n",
    "                            |(\\w+:\\/\\/\\S+)\",\" \",news).split())"
   ]
  },
  {
   "cell_type": "code",
   "execution_count": 5,
   "metadata": {},
   "outputs": [],
   "source": [
    "def news_sentiment(news):\n",
    "    analysis = TextBlob(clean_news(news))\n",
    "    polarity_score = analysis.sentiment.polarity\n",
    "    if polarity_score > 0:\n",
    "        return ['positive', polarity_score]\n",
    "    elif polarity_score == 0:\n",
    "        return ['neutral',polarity_score]\n",
    "    else:\n",
    "        return ['negative',polarity_score]"
   ]
  },
  {
   "cell_type": "code",
   "execution_count": 6,
   "metadata": {},
   "outputs": [],
   "source": [
    "def get_news(keywords):\n",
    "    news=[]\n",
    "    for i in range(len(keywords)):\n",
    "        url = 'https://newsapi.org/v2/everything/'\n",
    "        params = {'q': keywords[i],'sortBy' : 'latest','apiKey' : nc.api_key}\n",
    "        proxy = {'https' :'https://webproxyjb.fpl.com:8080'}\n",
    "        response = requests.get(url,params = params, proxies = proxy).json()\n",
    "        for article in response['articles']:\n",
    "            try:\n",
    "                parsed_news = {}\n",
    "                parsed_news['source'] = article['source']['name']\n",
    "                parsed_news['article'] = article['content']\n",
    "                parsed_news['sentiment'] = news_sentiment(article['content'])[0]\n",
    "                parsed_news['polarity_score'] = news_sentiment(article['content'])[1]\n",
    "                parsed_news['news_date'] = article['publishedAt']\n",
    "                #parsed_news['link'] = article['url']\n",
    "                news.append(parsed_news)\n",
    "            except:\n",
    "                continue\n",
    "\n",
    "    return news                "
   ]
  },
  {
   "cell_type": "code",
   "execution_count": 7,
   "metadata": {},
   "outputs": [],
   "source": [
    "df = pd.DataFrame(get_news(keywords))"
   ]
  },
  {
   "cell_type": "code",
   "execution_count": 8,
   "metadata": {},
   "outputs": [
    {
     "data": {
      "text/plain": [
       "(39, 5)"
      ]
     },
     "execution_count": 8,
     "metadata": {},
     "output_type": "execute_result"
    }
   ],
   "source": [
    "df.shape"
   ]
  },
  {
   "cell_type": "code",
   "execution_count": 9,
   "metadata": {},
   "outputs": [
    {
     "data": {
      "text/html": [
       "<div>\n",
       "<style scoped>\n",
       "    .dataframe tbody tr th:only-of-type {\n",
       "        vertical-align: middle;\n",
       "    }\n",
       "\n",
       "    .dataframe tbody tr th {\n",
       "        vertical-align: top;\n",
       "    }\n",
       "\n",
       "    .dataframe thead th {\n",
       "        text-align: right;\n",
       "    }\n",
       "</style>\n",
       "<table border=\"1\" class=\"dataframe\">\n",
       "  <thead>\n",
       "    <tr style=\"text-align: right;\">\n",
       "      <th></th>\n",
       "      <th>article</th>\n",
       "      <th>news_date</th>\n",
       "      <th>polarity_score</th>\n",
       "      <th>sentiment</th>\n",
       "      <th>source</th>\n",
       "    </tr>\n",
       "  </thead>\n",
       "  <tbody>\n",
       "    <tr>\n",
       "      <th>0</th>\n",
       "      <td>Morgan Stanley thinks the longest bull market ...</td>\n",
       "      <td>2019-03-18T13:42:00Z</td>\n",
       "      <td>0.300000</td>\n",
       "      <td>positive</td>\n",
       "      <td>Business Insider</td>\n",
       "    </tr>\n",
       "    <tr>\n",
       "      <th>1</th>\n",
       "      <td>NextEra Energy Partners(NYSE:NEP) has a bold p...</td>\n",
       "      <td>2019-03-04T22:08:00Z</td>\n",
       "      <td>0.377778</td>\n",
       "      <td>positive</td>\n",
       "      <td>Fool.com</td>\n",
       "    </tr>\n",
       "    <tr>\n",
       "      <th>2</th>\n",
       "      <td>Among the challenges many retirees face is tha...</td>\n",
       "      <td>2019-03-17T13:05:00Z</td>\n",
       "      <td>0.122273</td>\n",
       "      <td>positive</td>\n",
       "      <td>Fool.com</td>\n",
       "    </tr>\n",
       "    <tr>\n",
       "      <th>3</th>\n",
       "      <td>Income-focused investors tend to fall into two...</td>\n",
       "      <td>2019-03-24T13:03:00Z</td>\n",
       "      <td>0.000000</td>\n",
       "      <td>neutral</td>\n",
       "      <td>Fool.com</td>\n",
       "    </tr>\n",
       "    <tr>\n",
       "      <th>4</th>\n",
       "      <td>The energy sector can be a great place for inc...</td>\n",
       "      <td>2019-03-18T15:02:00Z</td>\n",
       "      <td>0.300000</td>\n",
       "      <td>positive</td>\n",
       "      <td>Fool.com</td>\n",
       "    </tr>\n",
       "  </tbody>\n",
       "</table>\n",
       "</div>"
      ],
      "text/plain": [
       "                                             article             news_date  \\\n",
       "0  Morgan Stanley thinks the longest bull market ...  2019-03-18T13:42:00Z   \n",
       "1  NextEra Energy Partners(NYSE:NEP) has a bold p...  2019-03-04T22:08:00Z   \n",
       "2  Among the challenges many retirees face is tha...  2019-03-17T13:05:00Z   \n",
       "3  Income-focused investors tend to fall into two...  2019-03-24T13:03:00Z   \n",
       "4  The energy sector can be a great place for inc...  2019-03-18T15:02:00Z   \n",
       "\n",
       "   polarity_score sentiment            source  \n",
       "0        0.300000  positive  Business Insider  \n",
       "1        0.377778  positive          Fool.com  \n",
       "2        0.122273  positive          Fool.com  \n",
       "3        0.000000   neutral          Fool.com  \n",
       "4        0.300000  positive          Fool.com  "
      ]
     },
     "execution_count": 9,
     "metadata": {},
     "output_type": "execute_result"
    }
   ],
   "source": [
    "df.head()"
   ]
  },
  {
   "cell_type": "code",
   "execution_count": 10,
   "metadata": {},
   "outputs": [],
   "source": [
    "df.to_excel('news_sentiment.xlsx')"
   ]
  },
  {
   "cell_type": "code",
   "execution_count": 12,
   "metadata": {},
   "outputs": [
    {
     "data": {
      "text/plain": [
       "<matplotlib.axes._subplots.AxesSubplot at 0x214df722048>"
      ]
     },
     "execution_count": 12,
     "metadata": {},
     "output_type": "execute_result"
    },
    {
     "data": {
      "image/png": "[encoded data removed]",
      "text/plain": [
       "<Figure size 432x288 with 1 Axes>"
      ]
     },
     "metadata": {
      "needs_background": "light"
     },
     "output_type": "display_data"
    }
   ],
   "source": [
    "df['sentiment'].value_counts().plot(kind='bar')"
   ]
  },
  {
   "cell_type": "code",
   "execution_count": 15,
   "metadata": {},
   "outputs": [],
   "source": [
    "ndf = df[df['sentiment']=='negative']"
   ]
  },
  {
   "cell_type": "code",
   "execution_count": 16,
   "metadata": {},
   "outputs": [
    {
     "data": {
      "text/html": [
       "<div>\n",
       "<style scoped>\n",
       "    .dataframe tbody tr th:only-of-type {\n",
       "        vertical-align: middle;\n",
       "    }\n",
       "\n",
       "    .dataframe tbody tr th {\n",
       "        vertical-align: top;\n",
       "    }\n",
       "\n",
       "    .dataframe thead th {\n",
       "        text-align: right;\n",
       "    }\n",
       "</style>\n",
       "<table border=\"1\" class=\"dataframe\">\n",
       "  <thead>\n",
       "    <tr style=\"text-align: right;\">\n",
       "      <th></th>\n",
       "      <th>article</th>\n",
       "      <th>news_date</th>\n",
       "      <th>polarity_score</th>\n",
       "      <th>sentiment</th>\n",
       "      <th>source</th>\n",
       "    </tr>\n",
       "  </thead>\n",
       "  <tbody>\n",
       "    <tr>\n",
       "      <th>10</th>\n",
       "      <td>When Pattern Energy(NASDAQ:PEGI) ran into seve...</td>\n",
       "      <td>2019-03-24T18:06:00Z</td>\n",
       "      <td>-0.083333</td>\n",
       "      <td>negative</td>\n",
       "      <td>Fool.com</td>\n",
       "    </tr>\n",
       "    <tr>\n",
       "      <th>18</th>\n",
       "      <td>Earnings estimates for NextEra Energy Inc. NEE...</td>\n",
       "      <td>2019-03-19T15:06:03Z</td>\n",
       "      <td>-0.125000</td>\n",
       "      <td>negative</td>\n",
       "      <td>Yahoo.com</td>\n",
       "    </tr>\n",
       "    <tr>\n",
       "      <th>19</th>\n",
       "      <td>No, you're not being paranoid. \\r\\nFour indivi...</td>\n",
       "      <td>2019-03-20T21:16:52Z</td>\n",
       "      <td>-0.050000</td>\n",
       "      <td>negative</td>\n",
       "      <td>Mashable</td>\n",
       "    </tr>\n",
       "    <tr>\n",
       "      <th>38</th>\n",
       "      <td>The third time will certainly not be the charm...</td>\n",
       "      <td>2019-03-02T11:00:00Z</td>\n",
       "      <td>-0.053571</td>\n",
       "      <td>negative</td>\n",
       "      <td>Theatlantic.com</td>\n",
       "    </tr>\n",
       "  </tbody>\n",
       "</table>\n",
       "</div>"
      ],
      "text/plain": [
       "                                              article             news_date  \\\n",
       "10  When Pattern Energy(NASDAQ:PEGI) ran into seve...  2019-03-24T18:06:00Z   \n",
       "18  Earnings estimates for NextEra Energy Inc. NEE...  2019-03-19T15:06:03Z   \n",
       "19  No, you're not being paranoid. \\r\\nFour indivi...  2019-03-20T21:16:52Z   \n",
       "38  The third time will certainly not be the charm...  2019-03-02T11:00:00Z   \n",
       "\n",
       "    polarity_score sentiment           source  \n",
       "10       -0.083333  negative         Fool.com  \n",
       "18       -0.125000  negative        Yahoo.com  \n",
       "19       -0.050000  negative         Mashable  \n",
       "38       -0.053571  negative  Theatlantic.com  "
      ]
     },
     "execution_count": 16,
     "metadata": {},
     "output_type": "execute_result"
    }
   ],
   "source": [
    "ndf"
   ]
  },
  {
   "cell_type": "code",
   "execution_count": null,
   "metadata": {},
   "outputs": [],
   "source": []
  }
 ],
 "metadata": {
  "kernelspec": {
   "display_name": "Python 3",
   "language": "python",
   "name": "python3"
  },
  "language_info": {
   "codemirror_mode": {
    "name": "ipython",
    "version": 3
   },
   "file_extension": ".py",
   "mimetype": "text/x-python",
   "name": "python",
   "nbconvert_exporter": "python",
   "pygments_lexer": "ipython3",
   "version": "3.7.1"
  }
 },
 "nbformat": 4,
 "nbformat_minor": 2
}
