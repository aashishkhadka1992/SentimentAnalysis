{
 "cells": [
  {
   "cell_type": "code",
   "execution_count": 2,
   "metadata": {
    "collapsed": true
   },
   "outputs": [],
   "source": [
    "# import the initial dependencies\n",
    "import pandas as pd\n",
    "import numpy as np\n",
    "import seaborn as sns"
   ]
  },
  {
   "cell_type": "code",
   "execution_count": 4,
   "metadata": {},
   "outputs": [],
   "source": [
    "# read in the sample data\n",
    "df=pd.read_csv('OL2017_Sample.csv')"
   ]
  },
  {
   "cell_type": "code",
   "execution_count": 5,
   "metadata": {},
   "outputs": [
    {
     "data": {
      "text/html": [
       "<div>\n",
       "<style>\n",
       "    .dataframe thead tr:only-child th {\n",
       "        text-align: right;\n",
       "    }\n",
       "\n",
       "    .dataframe thead th {\n",
       "        text-align: left;\n",
       "    }\n",
       "\n",
       "    .dataframe tbody tr th {\n",
       "        vertical-align: top;\n",
       "    }\n",
       "</style>\n",
       "<table border=\"1\" class=\"dataframe\">\n",
       "  <thead>\n",
       "    <tr style=\"text-align: right;\">\n",
       "      <th></th>\n",
       "      <th>Submission Date</th>\n",
       "      <th>ID</th>\n",
       "      <th>Comments</th>\n",
       "      <th>Sentiment</th>\n",
       "    </tr>\n",
       "  </thead>\n",
       "  <tbody>\n",
       "    <tr>\n",
       "      <th>0</th>\n",
       "      <td>3/30/2016 17:25</td>\n",
       "      <td>00000005-3f53-6485-0000-0153c9a1d6a0</td>\n",
       "      <td>The new payment option is really simple and sh...</td>\n",
       "      <td>Positive</td>\n",
       "    </tr>\n",
       "    <tr>\n",
       "      <th>1</th>\n",
       "      <td>1/3/2018 7:19</td>\n",
       "      <td>00000006-1ba9-10d9-0000-0160bc2d17c0</td>\n",
       "      <td>I have been trying to access your online websi...</td>\n",
       "      <td>Positive</td>\n",
       "    </tr>\n",
       "    <tr>\n",
       "      <th>2</th>\n",
       "      <td>7/30/2016 9:37</td>\n",
       "      <td>00000005-5e94-cab7-0000-01563c3cf0d0</td>\n",
       "      <td>The new bill payment system is AWFUL! If you l...</td>\n",
       "      <td>Negative</td>\n",
       "    </tr>\n",
       "    <tr>\n",
       "      <th>3</th>\n",
       "      <td>3/24/2017 15:29</td>\n",
       "      <td>00000005-ae69-4118-0000-015b0202ab08</td>\n",
       "      <td>I have been trying to reach a customer service...</td>\n",
       "      <td>Negative</td>\n",
       "    </tr>\n",
       "    <tr>\n",
       "      <th>4</th>\n",
       "      <td>12/4/2017 15:32</td>\n",
       "      <td>00000006-0e75-fb89-0000-0160237177d8</td>\n",
       "      <td>difficult to reach a real person...once I did ...</td>\n",
       "      <td>Negative</td>\n",
       "    </tr>\n",
       "  </tbody>\n",
       "</table>\n",
       "</div>"
      ],
      "text/plain": [
       "   Submission Date                                    ID  \\\n",
       "0  3/30/2016 17:25  00000005-3f53-6485-0000-0153c9a1d6a0   \n",
       "1    1/3/2018 7:19  00000006-1ba9-10d9-0000-0160bc2d17c0   \n",
       "2   7/30/2016 9:37  00000005-5e94-cab7-0000-01563c3cf0d0   \n",
       "3  3/24/2017 15:29  00000005-ae69-4118-0000-015b0202ab08   \n",
       "4  12/4/2017 15:32  00000006-0e75-fb89-0000-0160237177d8   \n",
       "\n",
       "                                            Comments Sentiment  \n",
       "0  The new payment option is really simple and sh...  Positive  \n",
       "1  I have been trying to access your online websi...  Positive  \n",
       "2  The new bill payment system is AWFUL! If you l...  Negative  \n",
       "3  I have been trying to reach a customer service...  Negative  \n",
       "4  difficult to reach a real person...once I did ...  Negative  "
      ]
     },
     "execution_count": 5,
     "metadata": {},
     "output_type": "execute_result"
    }
   ],
   "source": [
    "# I added the sentiment lables to this test file in order to create a template to train the model on. \n",
    "df.head()"
   ]
  },
  {
   "cell_type": "code",
   "execution_count": 6,
   "metadata": {},
   "outputs": [
    {
     "data": {
      "text/plain": [
       "Negative    9\n",
       "Positive    6\n",
       "Name: Sentiment, dtype: int64"
      ]
     },
     "execution_count": 6,
     "metadata": {},
     "output_type": "execute_result"
    }
   ],
   "source": [
    "# I Here are the breakdown of labels\n",
    "df.Sentiment.value_counts()"
   ]
  },
  {
   "cell_type": "code",
   "execution_count": 7,
   "metadata": {},
   "outputs": [],
   "source": [
    "# convert the lael  to a numerical variable\n",
    "df['label_num']= df.Sentiment.map({'Positive':0, 'Negative':1})"
   ]
  },
  {
   "cell_type": "code",
   "execution_count": 8,
   "metadata": {},
   "outputs": [
    {
     "data": {
      "text/html": [
       "<div>\n",
       "<style>\n",
       "    .dataframe thead tr:only-child th {\n",
       "        text-align: right;\n",
       "    }\n",
       "\n",
       "    .dataframe thead th {\n",
       "        text-align: left;\n",
       "    }\n",
       "\n",
       "    .dataframe tbody tr th {\n",
       "        vertical-align: top;\n",
       "    }\n",
       "</style>\n",
       "<table border=\"1\" class=\"dataframe\">\n",
       "  <thead>\n",
       "    <tr style=\"text-align: right;\">\n",
       "      <th></th>\n",
       "      <th>Submission Date</th>\n",
       "      <th>ID</th>\n",
       "      <th>Comments</th>\n",
       "      <th>Sentiment</th>\n",
       "      <th>label_num</th>\n",
       "    </tr>\n",
       "  </thead>\n",
       "  <tbody>\n",
       "    <tr>\n",
       "      <th>0</th>\n",
       "      <td>3/30/2016 17:25</td>\n",
       "      <td>00000005-3f53-6485-0000-0153c9a1d6a0</td>\n",
       "      <td>The new payment option is really simple and sh...</td>\n",
       "      <td>Positive</td>\n",
       "      <td>0</td>\n",
       "    </tr>\n",
       "    <tr>\n",
       "      <th>1</th>\n",
       "      <td>1/3/2018 7:19</td>\n",
       "      <td>00000006-1ba9-10d9-0000-0160bc2d17c0</td>\n",
       "      <td>I have been trying to access your online websi...</td>\n",
       "      <td>Positive</td>\n",
       "      <td>0</td>\n",
       "    </tr>\n",
       "    <tr>\n",
       "      <th>2</th>\n",
       "      <td>7/30/2016 9:37</td>\n",
       "      <td>00000005-5e94-cab7-0000-01563c3cf0d0</td>\n",
       "      <td>The new bill payment system is AWFUL! If you l...</td>\n",
       "      <td>Negative</td>\n",
       "      <td>1</td>\n",
       "    </tr>\n",
       "    <tr>\n",
       "      <th>3</th>\n",
       "      <td>3/24/2017 15:29</td>\n",
       "      <td>00000005-ae69-4118-0000-015b0202ab08</td>\n",
       "      <td>I have been trying to reach a customer service...</td>\n",
       "      <td>Negative</td>\n",
       "      <td>1</td>\n",
       "    </tr>\n",
       "    <tr>\n",
       "      <th>4</th>\n",
       "      <td>12/4/2017 15:32</td>\n",
       "      <td>00000006-0e75-fb89-0000-0160237177d8</td>\n",
       "      <td>difficult to reach a real person...once I did ...</td>\n",
       "      <td>Negative</td>\n",
       "      <td>1</td>\n",
       "    </tr>\n",
       "    <tr>\n",
       "      <th>5</th>\n",
       "      <td>3/30/2016 15:50</td>\n",
       "      <td>00000005-3f4d-44f0-0000-0153c94aa268</td>\n",
       "      <td>Easy and quick!</td>\n",
       "      <td>Positive</td>\n",
       "      <td>0</td>\n",
       "    </tr>\n",
       "    <tr>\n",
       "      <th>6</th>\n",
       "      <td>3/30/2016 15:43</td>\n",
       "      <td>00000005-3f4c-be8f-0000-0153c943e3d8</td>\n",
       "      <td>I like it but you should email customers like ...</td>\n",
       "      <td>Positive</td>\n",
       "      <td>0</td>\n",
       "    </tr>\n",
       "    <tr>\n",
       "      <th>7</th>\n",
       "      <td>5/27/2016 8:48</td>\n",
       "      <td>00000005-4e4f-0b77-0000-0154f278ce20</td>\n",
       "      <td>This app is useless. It shows my last pmt. Was...</td>\n",
       "      <td>Negative</td>\n",
       "      <td>1</td>\n",
       "    </tr>\n",
       "    <tr>\n",
       "      <th>8</th>\n",
       "      <td>7/16/2017 11:57</td>\n",
       "      <td>00000005-d6c2-f821-0000-015d4c54eb60</td>\n",
       "      <td>1.  The usage graphs show the average temp ins...</td>\n",
       "      <td>Negative</td>\n",
       "      <td>1</td>\n",
       "    </tr>\n",
       "    <tr>\n",
       "      <th>9</th>\n",
       "      <td>12/8/2017 19:57</td>\n",
       "      <td>00000006-10cf-ecd0-0000-016038fe2948</td>\n",
       "      <td>I DO NOT WANT PAPERLESS BILLING! I WAS LATE BE...</td>\n",
       "      <td>Negative</td>\n",
       "      <td>1</td>\n",
       "    </tr>\n",
       "    <tr>\n",
       "      <th>10</th>\n",
       "      <td>3/30/2016 20:14</td>\n",
       "      <td>00000005-3f5c-9f04-0000-0153ca3bff78</td>\n",
       "      <td>This almost seemed too easy. I was waiting for...</td>\n",
       "      <td>Positive</td>\n",
       "      <td>0</td>\n",
       "    </tr>\n",
       "    <tr>\n",
       "      <th>11</th>\n",
       "      <td>2/28/2017 11:57</td>\n",
       "      <td>00000005-a614-4bfd-0000-015a85ded650</td>\n",
       "      <td>The energy usage graph is very confusing.  I a...</td>\n",
       "      <td>Negative</td>\n",
       "      <td>1</td>\n",
       "    </tr>\n",
       "    <tr>\n",
       "      <th>12</th>\n",
       "      <td>3/29/2016 21:15</td>\n",
       "      <td>00000005-3f14-9c40-0000-0153c54dd630</td>\n",
       "      <td>bad you are forcing me to choose I only want t...</td>\n",
       "      <td>Negative</td>\n",
       "      <td>1</td>\n",
       "    </tr>\n",
       "    <tr>\n",
       "      <th>13</th>\n",
       "      <td>4/27/2017 9:10</td>\n",
       "      <td>00000005-ba1e-9134-0000-015bafbfd748</td>\n",
       "      <td>Your system is impossible.  You reject my emai...</td>\n",
       "      <td>Negative</td>\n",
       "      <td>1</td>\n",
       "    </tr>\n",
       "    <tr>\n",
       "      <th>14</th>\n",
       "      <td>3/29/2016 21:24</td>\n",
       "      <td>00000005-3f15-0f7c-0000-0153c5567150</td>\n",
       "      <td>Was very easy &amp; simple. Thank you</td>\n",
       "      <td>Positive</td>\n",
       "      <td>0</td>\n",
       "    </tr>\n",
       "  </tbody>\n",
       "</table>\n",
       "</div>"
      ],
      "text/plain": [
       "    Submission Date                                    ID  \\\n",
       "0   3/30/2016 17:25  00000005-3f53-6485-0000-0153c9a1d6a0   \n",
       "1     1/3/2018 7:19  00000006-1ba9-10d9-0000-0160bc2d17c0   \n",
       "2    7/30/2016 9:37  00000005-5e94-cab7-0000-01563c3cf0d0   \n",
       "3   3/24/2017 15:29  00000005-ae69-4118-0000-015b0202ab08   \n",
       "4   12/4/2017 15:32  00000006-0e75-fb89-0000-0160237177d8   \n",
       "5   3/30/2016 15:50  00000005-3f4d-44f0-0000-0153c94aa268   \n",
       "6   3/30/2016 15:43  00000005-3f4c-be8f-0000-0153c943e3d8   \n",
       "7    5/27/2016 8:48  00000005-4e4f-0b77-0000-0154f278ce20   \n",
       "8   7/16/2017 11:57  00000005-d6c2-f821-0000-015d4c54eb60   \n",
       "9   12/8/2017 19:57  00000006-10cf-ecd0-0000-016038fe2948   \n",
       "10  3/30/2016 20:14  00000005-3f5c-9f04-0000-0153ca3bff78   \n",
       "11  2/28/2017 11:57  00000005-a614-4bfd-0000-015a85ded650   \n",
       "12  3/29/2016 21:15  00000005-3f14-9c40-0000-0153c54dd630   \n",
       "13   4/27/2017 9:10  00000005-ba1e-9134-0000-015bafbfd748   \n",
       "14  3/29/2016 21:24  00000005-3f15-0f7c-0000-0153c5567150   \n",
       "\n",
       "                                             Comments Sentiment  label_num  \n",
       "0   The new payment option is really simple and sh...  Positive          0  \n",
       "1   I have been trying to access your online websi...  Positive          0  \n",
       "2   The new bill payment system is AWFUL! If you l...  Negative          1  \n",
       "3   I have been trying to reach a customer service...  Negative          1  \n",
       "4   difficult to reach a real person...once I did ...  Negative          1  \n",
       "5                                     Easy and quick!  Positive          0  \n",
       "6   I like it but you should email customers like ...  Positive          0  \n",
       "7   This app is useless. It shows my last pmt. Was...  Negative          1  \n",
       "8   1.  The usage graphs show the average temp ins...  Negative          1  \n",
       "9   I DO NOT WANT PAPERLESS BILLING! I WAS LATE BE...  Negative          1  \n",
       "10  This almost seemed too easy. I was waiting for...  Positive          0  \n",
       "11  The energy usage graph is very confusing.  I a...  Negative          1  \n",
       "12  bad you are forcing me to choose I only want t...  Negative          1  \n",
       "13  Your system is impossible.  You reject my emai...  Negative          1  \n",
       "14                  Was very easy & simple. Thank you  Positive          0  "
      ]
     },
     "execution_count": 8,
     "metadata": {},
     "output_type": "execute_result"
    }
   ],
   "source": [
    "# checking the label_num category\n",
    "df"
   ]
  },
  {
   "cell_type": "code",
   "execution_count": 9,
   "metadata": {},
   "outputs": [
    {
     "name": "stdout",
     "output_type": "stream",
     "text": [
      "(15,)\n",
      "(15,)\n"
     ]
    }
   ],
   "source": [
    "#Assigning the X and y variable and checkng that the have the same shape.\n",
    "X =df['Comments']\n",
    "y= df['label_num']\n",
    "print(X.shape)\n",
    "print(y.shape)"
   ]
  },
  {
   "cell_type": "code",
   "execution_count": 10,
   "metadata": {},
   "outputs": [
    {
     "name": "stderr",
     "output_type": "stream",
     "text": [
      "C:\\Users\\GMH0CVB\\AppData\\Local\\Continuum\\anaconda\\lib\\site-packages\\sklearn\\cross_validation.py:41: DeprecationWarning: This module was deprecated in version 0.18 in favor of the model_selection module into which all the refactored classes and functions are moved. Also note that the interface of the new CV iterators are different from that of this module. This module will be removed in 0.20.\n",
      "  \"This module will be removed in 0.20.\", DeprecationWarning)\n"
     ]
    }
   ],
   "source": [
    "# loading in SciKit Learn feature extraction and testing. I am using Count Vectorizer to split and turn the text in to vectors. \n",
    "from sklearn.feature_extraction.text import CountVectorizer\n",
    "from sklearn.cross_validation import train_test_split"
   ]
  },
  {
   "cell_type": "code",
   "execution_count": 11,
   "metadata": {},
   "outputs": [
    {
     "name": "stdout",
     "output_type": "stream",
     "text": [
      "(10,)\n",
      "(5,)\n",
      "(10,)\n",
      "(5,)\n"
     ]
    }
   ],
   "source": [
    "# Splitting the sample data into train and test sets.\n",
    "X_train,X_test,y_train, y_test= train_test_split(X,y,random_state = 0, test_size =.33)\n",
    "print(X_train.shape)\n",
    "print(X_test.shape)\n",
    "print(y_train.shape)\n",
    "print(y_test.shape)"
   ]
  },
  {
   "cell_type": "code",
   "execution_count": 12,
   "metadata": {
    "collapsed": true
   },
   "outputs": [],
   "source": [
    "#instantiate the vectorizer\n",
    "vect=CountVectorizer()"
   ]
  },
  {
   "cell_type": "code",
   "execution_count": 13,
   "metadata": {
    "collapsed": true
   },
   "outputs": [],
   "source": [
    "#Learn the training vocab then create a model\n",
    "vect.fit(X_train)\n",
    "X_train_dtm=vect.transform(X_train)"
   ]
  },
  {
   "cell_type": "code",
   "execution_count": 14,
   "metadata": {},
   "outputs": [
    {
     "data": {
      "text/plain": [
       "<10x165 sparse matrix of type '<class 'numpy.int64'>'\n",
       "\twith 237 stored elements in Compressed Sparse Row format>"
      ]
     },
     "execution_count": 14,
     "metadata": {},
     "output_type": "execute_result"
    }
   ],
   "source": [
    "# checking the number of features in the matrix\n",
    "X_train_dtm"
   ]
  },
  {
   "cell_type": "code",
   "execution_count": 15,
   "metadata": {},
   "outputs": [
    {
     "data": {
      "text/plain": [
       "<5x165 sparse matrix of type '<class 'numpy.int64'>'\n",
       "\twith 73 stored elements in Compressed Sparse Row format>"
      ]
     },
     "execution_count": 15,
     "metadata": {},
     "output_type": "execute_result"
    }
   ],
   "source": [
    "#transforming the word\n",
    "X_test_dtm=vect.transform(X_test)\n",
    "X_test_dtm"
   ]
  },
  {
   "cell_type": "code",
   "execution_count": 16,
   "metadata": {
    "collapsed": true
   },
   "outputs": [],
   "source": [
    "# loading in the Navie Bayes Classifer. I just tried this but Logistic Regression for SciKit Learn should work fine. \n",
    "from sklearn.naive_bayes import MultinomialNB\n",
    "nb = MultinomialNB()"
   ]
  },
  {
   "cell_type": "code",
   "execution_count": 17,
   "metadata": {},
   "outputs": [
    {
     "data": {
      "text/plain": [
       "MultinomialNB(alpha=1.0, class_prior=None, fit_prior=True)"
      ]
     },
     "execution_count": 17,
     "metadata": {},
     "output_type": "execute_result"
    }
   ],
   "source": [
    "nb.fit(X_train_dtm, y_train)"
   ]
  },
  {
   "cell_type": "code",
   "execution_count": 18,
   "metadata": {
    "collapsed": true
   },
   "outputs": [],
   "source": [
    "#make class predictions\n",
    "y_pred_class= nb.predict(X_test_dtm)"
   ]
  },
  {
   "cell_type": "code",
   "execution_count": 19,
   "metadata": {},
   "outputs": [
    {
     "data": {
      "text/plain": [
       "array([1, 1, 1, 1, 0], dtype=int64)"
      ]
     },
     "execution_count": 19,
     "metadata": {},
     "output_type": "execute_result"
    }
   ],
   "source": [
    "y_pred_class"
   ]
  },
  {
   "cell_type": "code",
   "execution_count": 20,
   "metadata": {},
   "outputs": [
    {
     "data": {
      "text/plain": [
       "0.59999999999999998"
      ]
     },
     "execution_count": 20,
     "metadata": {},
     "output_type": "execute_result"
    }
   ],
   "source": [
    "#checking the model accuracy\n",
    "from sklearn import metrics\n",
    "metrics.accuracy_score(y_test, y_pred_class)"
   ]
  },
  {
   "cell_type": "code",
   "execution_count": 21,
   "metadata": {},
   "outputs": [
    {
     "data": {
      "text/plain": [
       "array([[1, 2],\n",
       "       [0, 2]], dtype=int64)"
      ]
     },
     "execution_count": 21,
     "metadata": {},
     "output_type": "execute_result"
    }
   ],
   "source": [
    "# printing the confusion matric to see false positives and negaives\n",
    "metrics.confusion_matrix(y_test,y_pred_class)"
   ]
  },
  {
   "cell_type": "code",
   "execution_count": 22,
   "metadata": {},
   "outputs": [],
   "source": [
    "#create a data fram to see the results of the test and its classifcation \n",
    "df2=pd.DataFrame(y_pred_class,X_test)"
   ]
  },
  {
   "cell_type": "code",
   "execution_count": 23,
   "metadata": {},
   "outputs": [
    {
     "data": {
      "text/html": [
       "<div>\n",
       "<style>\n",
       "    .dataframe thead tr:only-child th {\n",
       "        text-align: right;\n",
       "    }\n",
       "\n",
       "    .dataframe thead th {\n",
       "        text-align: left;\n",
       "    }\n",
       "\n",
       "    .dataframe tbody tr th {\n",
       "        vertical-align: top;\n",
       "    }\n",
       "</style>\n",
       "<table border=\"1\" class=\"dataframe\">\n",
       "  <thead>\n",
       "    <tr style=\"text-align: right;\">\n",
       "      <th></th>\n",
       "      <th>0</th>\n",
       "    </tr>\n",
       "    <tr>\n",
       "      <th>Comments</th>\n",
       "      <th></th>\n",
       "    </tr>\n",
       "  </thead>\n",
       "  <tbody>\n",
       "    <tr>\n",
       "      <th>I have been trying to access your online website and just received a white screen  after putting my password in. I called your customer service department and was advised to change my password , and did so to pay my bill. I tried to re-log back in using new password and received the same white screen again. This is very troublesome being its still did not change. Please look into this. Thanks!!</th>\n",
       "      <td>1</td>\n",
       "    </tr>\n",
       "    <tr>\n",
       "      <th>I like it but you should email customers like you use to do two days or three days before payment is do. Something told me to look up FPL to see when bill is due.</th>\n",
       "      <td>1</td>\n",
       "    </tr>\n",
       "    <tr>\n",
       "      <th>1.  The usage graphs show the average temp instead of the actual temperature.  And the  averages don't even make sense - for example, it shows the temp dropping 10 degrees between 10-11 am.  This makes is hard to know how the usage varies between hot and mild days.      2.  It is nearly impossible to find a phone number for an actual human being instead of an auto system.</th>\n",
       "      <td>1</td>\n",
       "    </tr>\n",
       "    <tr>\n",
       "      <th>I DO NOT WANT PAPERLESS BILLING! I WAS LATE BECAUSE OF IT STOP PAPERLESS BILLING! I do not have access to a computer all the time. I would like paper mailed.    #9832972583</th>\n",
       "      <td>1</td>\n",
       "    </tr>\n",
       "    <tr>\n",
       "      <th>Was very easy &amp; simple. Thank you</th>\n",
       "      <td>0</td>\n",
       "    </tr>\n",
       "  </tbody>\n",
       "</table>\n",
       "</div>"
      ],
      "text/plain": [
       "                                                    0\n",
       "Comments                                             \n",
       "I have been trying to access your online websit...  1\n",
       "I like it but you should email customers like y...  1\n",
       "1.  The usage graphs show the average temp inst...  1\n",
       "I DO NOT WANT PAPERLESS BILLING! I WAS LATE BEC...  1\n",
       "Was very easy & simple. Thank you                   0"
      ]
     },
     "execution_count": 23,
     "metadata": {},
     "output_type": "execute_result"
    }
   ],
   "source": [
    "# lets take a look.\n",
    "df2"
   ]
  },
  {
   "cell_type": "code",
   "execution_count": 25,
   "metadata": {},
   "outputs": [
    {
     "data": {
      "text/html": [
       "<div>\n",
       "<style>\n",
       "    .dataframe thead tr:only-child th {\n",
       "        text-align: right;\n",
       "    }\n",
       "\n",
       "    .dataframe thead th {\n",
       "        text-align: left;\n",
       "    }\n",
       "\n",
       "    .dataframe tbody tr th {\n",
       "        vertical-align: top;\n",
       "    }\n",
       "</style>\n",
       "<table border=\"1\" class=\"dataframe\">\n",
       "  <thead>\n",
       "    <tr style=\"text-align: right;\">\n",
       "      <th></th>\n",
       "      <th>Prediction</th>\n",
       "    </tr>\n",
       "    <tr>\n",
       "      <th>Comments</th>\n",
       "      <th></th>\n",
       "    </tr>\n",
       "  </thead>\n",
       "  <tbody>\n",
       "    <tr>\n",
       "      <th>I have been trying to access your online website and just received a white screen  after putting my password in. I called your customer service department and was advised to change my password , and did so to pay my bill. I tried to re-log back in using new password and received the same white screen again. This is very troublesome being its still did not change. Please look into this. Thanks!!</th>\n",
       "      <td>1</td>\n",
       "    </tr>\n",
       "    <tr>\n",
       "      <th>I like it but you should email customers like you use to do two days or three days before payment is do. Something told me to look up FPL to see when bill is due.</th>\n",
       "      <td>1</td>\n",
       "    </tr>\n",
       "    <tr>\n",
       "      <th>1.  The usage graphs show the average temp instead of the actual temperature.  And the  averages don't even make sense - for example, it shows the temp dropping 10 degrees between 10-11 am.  This makes is hard to know how the usage varies between hot and mild days.      2.  It is nearly impossible to find a phone number for an actual human being instead of an auto system.</th>\n",
       "      <td>1</td>\n",
       "    </tr>\n",
       "    <tr>\n",
       "      <th>I DO NOT WANT PAPERLESS BILLING! I WAS LATE BECAUSE OF IT STOP PAPERLESS BILLING! I do not have access to a computer all the time. I would like paper mailed.    #9832972583</th>\n",
       "      <td>1</td>\n",
       "    </tr>\n",
       "    <tr>\n",
       "      <th>Was very easy &amp; simple. Thank you</th>\n",
       "      <td>0</td>\n",
       "    </tr>\n",
       "  </tbody>\n",
       "</table>\n",
       "</div>"
      ],
      "text/plain": [
       "                                                    Prediction\n",
       "Comments                                                      \n",
       "I have been trying to access your online websit...           1\n",
       "I like it but you should email customers like y...           1\n",
       "1.  The usage graphs show the average temp inst...           1\n",
       "I DO NOT WANT PAPERLESS BILLING! I WAS LATE BEC...           1\n",
       "Was very easy & simple. Thank you                            0"
      ]
     },
     "execution_count": 25,
     "metadata": {},
     "output_type": "execute_result"
    }
   ],
   "source": [
    "df2.columns=['Prediction']\n",
    "df2"
   ]
  },
  {
   "cell_type": "code",
   "execution_count": null,
   "metadata": {
    "collapsed": true
   },
   "outputs": [],
   "source": []
  }
 ],
 "metadata": {
  "kernelspec": {
   "display_name": "Python 3",
   "language": "python",
   "name": "python3"
  },
  "language_info": {
   "codemirror_mode": {
    "name": "ipython",
    "version": 3
   },
   "file_extension": ".py",
   "mimetype": "text/x-python",
   "name": "python",
   "nbconvert_exporter": "python",
   "pygments_lexer": "ipython3",
   "version": "3.7.1"
  }
 },
 "nbformat": 4,
 "nbformat_minor": 2
}
