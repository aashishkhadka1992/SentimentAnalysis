{
 "cells": [
  {
   "cell_type": "code",
   "execution_count": 1,
   "metadata": {},
   "outputs": [],
   "source": [
    "import seaborn as sns\n",
    "from time import time\n",
    "import random\n",
    "import json\n",
    "import matplotlib.pyplot as plt\n",
    "%matplotlib inline"
   ]
  },
  {
   "cell_type": "code",
   "execution_count": 2,
   "metadata": {},
   "outputs": [],
   "source": [
    "from sklearn.model_selection import train_test_split\n",
    "from sklearn.utils.class_weight import compute_class_weight\n",
    "from sklearn.metrics import classification_report, f1_score, cohen_kappa_score"
   ]
  },
  {
   "cell_type": "code",
   "execution_count": 3,
   "metadata": {},
   "outputs": [],
   "source": [
    "import tensorflow as tf\n",
    "from tensorflow.keras import models, optimizers\n",
    "from tensorflow.keras.models import Model\n",
    "from tensorflow.keras.layers import Activation, BatchNormalization, Dense, Dropout, Embedding, MaxPooling1D\n",
    "from tensorflow.keras.layers import Input, concatenate\n",
    "from tensorflow.keras.layers import LSTM, Bidirectional, Conv1D, GRU\n",
    "from tensorflow.keras.callbacks import ModelCheckpoint, EarlyStopping, ReduceLROnPlateau"
   ]
  },
  {
   "cell_type": "code",
   "execution_count": 4,
   "metadata": {},
   "outputs": [],
   "source": [
    "from hyperopt import hp, fmin, tpe, STATUS_OK, Trials, space_eval"
   ]
  },
  {
   "cell_type": "code",
   "execution_count": 5,
   "metadata": {},
   "outputs": [],
   "source": [
    "from train_utils import *"
   ]
  },
  {
   "cell_type": "code",
   "execution_count": 6,
   "metadata": {},
   "outputs": [],
   "source": [
    "train_data = pd.read_csv('trainingdata.csv')"
   ]
  },
  {
   "cell_type": "code",
   "execution_count": 7,
   "metadata": {},
   "outputs": [
    {
     "data": {
      "text/html": [
       "<div>\n",
       "<style scoped>\n",
       "    .dataframe tbody tr th:only-of-type {\n",
       "        vertical-align: middle;\n",
       "    }\n",
       "\n",
       "    .dataframe tbody tr th {\n",
       "        vertical-align: top;\n",
       "    }\n",
       "\n",
       "    .dataframe thead th {\n",
       "        text-align: right;\n",
       "    }\n",
       "</style>\n",
       "<table border=\"1\" class=\"dataframe\">\n",
       "  <thead>\n",
       "    <tr style=\"text-align: right;\">\n",
       "      <th></th>\n",
       "      <th>id</th>\n",
       "      <th>candidate</th>\n",
       "      <th>candidate_confidence</th>\n",
       "      <th>relevant_yn</th>\n",
       "      <th>relevant_yn_confidence</th>\n",
       "      <th>sentiment</th>\n",
       "      <th>sentiment_confidence</th>\n",
       "      <th>subject_matter</th>\n",
       "      <th>subject_matter_confidence</th>\n",
       "      <th>candidate_gold</th>\n",
       "      <th>...</th>\n",
       "      <th>relevant_yn_gold</th>\n",
       "      <th>retweet_count</th>\n",
       "      <th>sentiment_gold</th>\n",
       "      <th>subject_matter_gold</th>\n",
       "      <th>text</th>\n",
       "      <th>tweet_coord</th>\n",
       "      <th>tweet_created</th>\n",
       "      <th>tweet_id</th>\n",
       "      <th>tweet_location</th>\n",
       "      <th>user_timezone</th>\n",
       "    </tr>\n",
       "  </thead>\n",
       "  <tbody>\n",
       "    <tr>\n",
       "      <th>0</th>\n",
       "      <td>1</td>\n",
       "      <td>No candidate mentioned</td>\n",
       "      <td>1.0</td>\n",
       "      <td>yes</td>\n",
       "      <td>1.0</td>\n",
       "      <td>Neutral</td>\n",
       "      <td>0.6578</td>\n",
       "      <td>None of the above</td>\n",
       "      <td>1.0000</td>\n",
       "      <td>NaN</td>\n",
       "      <td>...</td>\n",
       "      <td>NaN</td>\n",
       "      <td>5</td>\n",
       "      <td>NaN</td>\n",
       "      <td>NaN</td>\n",
       "      <td>RT @NancyLeeGrahn: How did everyone feel about...</td>\n",
       "      <td>NaN</td>\n",
       "      <td>8/7/2015 9:54</td>\n",
       "      <td>6.296970e+17</td>\n",
       "      <td>NaN</td>\n",
       "      <td>Quito</td>\n",
       "    </tr>\n",
       "    <tr>\n",
       "      <th>1</th>\n",
       "      <td>2</td>\n",
       "      <td>Scott Walker</td>\n",
       "      <td>1.0</td>\n",
       "      <td>yes</td>\n",
       "      <td>1.0</td>\n",
       "      <td>Positive</td>\n",
       "      <td>0.6333</td>\n",
       "      <td>None of the above</td>\n",
       "      <td>1.0000</td>\n",
       "      <td>NaN</td>\n",
       "      <td>...</td>\n",
       "      <td>NaN</td>\n",
       "      <td>26</td>\n",
       "      <td>NaN</td>\n",
       "      <td>NaN</td>\n",
       "      <td>RT @ScottWalker: Didn't catch the full #GOPdeb...</td>\n",
       "      <td>NaN</td>\n",
       "      <td>8/7/2015 9:54</td>\n",
       "      <td>6.296970e+17</td>\n",
       "      <td>NaN</td>\n",
       "      <td>NaN</td>\n",
       "    </tr>\n",
       "    <tr>\n",
       "      <th>2</th>\n",
       "      <td>3</td>\n",
       "      <td>No candidate mentioned</td>\n",
       "      <td>1.0</td>\n",
       "      <td>yes</td>\n",
       "      <td>1.0</td>\n",
       "      <td>Neutral</td>\n",
       "      <td>0.6629</td>\n",
       "      <td>None of the above</td>\n",
       "      <td>0.6629</td>\n",
       "      <td>NaN</td>\n",
       "      <td>...</td>\n",
       "      <td>NaN</td>\n",
       "      <td>27</td>\n",
       "      <td>NaN</td>\n",
       "      <td>NaN</td>\n",
       "      <td>RT @TJMShow: No mention of Tamir Rice and the ...</td>\n",
       "      <td>NaN</td>\n",
       "      <td>8/7/2015 9:54</td>\n",
       "      <td>6.296970e+17</td>\n",
       "      <td>NaN</td>\n",
       "      <td>NaN</td>\n",
       "    </tr>\n",
       "    <tr>\n",
       "      <th>3</th>\n",
       "      <td>4</td>\n",
       "      <td>No candidate mentioned</td>\n",
       "      <td>1.0</td>\n",
       "      <td>yes</td>\n",
       "      <td>1.0</td>\n",
       "      <td>Positive</td>\n",
       "      <td>1.0000</td>\n",
       "      <td>None of the above</td>\n",
       "      <td>0.7039</td>\n",
       "      <td>NaN</td>\n",
       "      <td>...</td>\n",
       "      <td>NaN</td>\n",
       "      <td>138</td>\n",
       "      <td>NaN</td>\n",
       "      <td>NaN</td>\n",
       "      <td>RT @RobGeorge: That Carly Fiorina is trending ...</td>\n",
       "      <td>NaN</td>\n",
       "      <td>8/7/2015 9:54</td>\n",
       "      <td>6.296970e+17</td>\n",
       "      <td>Texas</td>\n",
       "      <td>Central Time (US &amp; Canada)</td>\n",
       "    </tr>\n",
       "    <tr>\n",
       "      <th>4</th>\n",
       "      <td>5</td>\n",
       "      <td>Donald Trump</td>\n",
       "      <td>1.0</td>\n",
       "      <td>yes</td>\n",
       "      <td>1.0</td>\n",
       "      <td>Positive</td>\n",
       "      <td>0.7045</td>\n",
       "      <td>None of the above</td>\n",
       "      <td>1.0000</td>\n",
       "      <td>NaN</td>\n",
       "      <td>...</td>\n",
       "      <td>NaN</td>\n",
       "      <td>156</td>\n",
       "      <td>NaN</td>\n",
       "      <td>NaN</td>\n",
       "      <td>RT @DanScavino: #GOPDebate w/ @realDonaldTrump...</td>\n",
       "      <td>NaN</td>\n",
       "      <td>8/7/2015 9:54</td>\n",
       "      <td>6.296970e+17</td>\n",
       "      <td>NaN</td>\n",
       "      <td>Arizona</td>\n",
       "    </tr>\n",
       "  </tbody>\n",
       "</table>\n",
       "<p>5 rows × 21 columns</p>\n",
       "</div>"
      ],
      "text/plain": [
       "   id               candidate  candidate_confidence relevant_yn  \\\n",
       "0   1  No candidate mentioned                   1.0         yes   \n",
       "1   2            Scott Walker                   1.0         yes   \n",
       "2   3  No candidate mentioned                   1.0         yes   \n",
       "3   4  No candidate mentioned                   1.0         yes   \n",
       "4   5            Donald Trump                   1.0         yes   \n",
       "\n",
       "   relevant_yn_confidence sentiment  sentiment_confidence     subject_matter  \\\n",
       "0                     1.0   Neutral                0.6578  None of the above   \n",
       "1                     1.0  Positive                0.6333  None of the above   \n",
       "2                     1.0   Neutral                0.6629  None of the above   \n",
       "3                     1.0  Positive                1.0000  None of the above   \n",
       "4                     1.0  Positive                0.7045  None of the above   \n",
       "\n",
       "   subject_matter_confidence candidate_gold  ... relevant_yn_gold  \\\n",
       "0                     1.0000            NaN  ...              NaN   \n",
       "1                     1.0000            NaN  ...              NaN   \n",
       "2                     0.6629            NaN  ...              NaN   \n",
       "3                     0.7039            NaN  ...              NaN   \n",
       "4                     1.0000            NaN  ...              NaN   \n",
       "\n",
       "  retweet_count  sentiment_gold subject_matter_gold  \\\n",
       "0             5             NaN                 NaN   \n",
       "1            26             NaN                 NaN   \n",
       "2            27             NaN                 NaN   \n",
       "3           138             NaN                 NaN   \n",
       "4           156             NaN                 NaN   \n",
       "\n",
       "                                                text tweet_coord  \\\n",
       "0  RT @NancyLeeGrahn: How did everyone feel about...         NaN   \n",
       "1  RT @ScottWalker: Didn't catch the full #GOPdeb...         NaN   \n",
       "2  RT @TJMShow: No mention of Tamir Rice and the ...         NaN   \n",
       "3  RT @RobGeorge: That Carly Fiorina is trending ...         NaN   \n",
       "4  RT @DanScavino: #GOPDebate w/ @realDonaldTrump...         NaN   \n",
       "\n",
       "   tweet_created      tweet_id  tweet_location               user_timezone  \n",
       "0  8/7/2015 9:54  6.296970e+17             NaN                       Quito  \n",
       "1  8/7/2015 9:54  6.296970e+17             NaN                         NaN  \n",
       "2  8/7/2015 9:54  6.296970e+17             NaN                         NaN  \n",
       "3  8/7/2015 9:54  6.296970e+17           Texas  Central Time (US & Canada)  \n",
       "4  8/7/2015 9:54  6.296970e+17             NaN                     Arizona  \n",
       "\n",
       "[5 rows x 21 columns]"
      ]
     },
     "execution_count": 7,
     "metadata": {},
     "output_type": "execute_result"
    }
   ],
   "source": [
    "train_data.head()"
   ]
  },
  {
   "cell_type": "code",
   "execution_count": 8,
   "metadata": {},
   "outputs": [
    {
     "name": "stdout",
     "output_type": "stream",
     "text": [
      "(13871, 2)\n"
     ]
    },
    {
     "data": {
      "text/html": [
       "<div>\n",
       "<style scoped>\n",
       "    .dataframe tbody tr th:only-of-type {\n",
       "        vertical-align: middle;\n",
       "    }\n",
       "\n",
       "    .dataframe tbody tr th {\n",
       "        vertical-align: top;\n",
       "    }\n",
       "\n",
       "    .dataframe thead th {\n",
       "        text-align: right;\n",
       "    }\n",
       "</style>\n",
       "<table border=\"1\" class=\"dataframe\">\n",
       "  <thead>\n",
       "    <tr style=\"text-align: right;\">\n",
       "      <th></th>\n",
       "      <th>Sentiment</th>\n",
       "      <th>Text</th>\n",
       "    </tr>\n",
       "  </thead>\n",
       "  <tbody>\n",
       "    <tr>\n",
       "      <th>0</th>\n",
       "      <td>0</td>\n",
       "      <td>RT @NoChristie16: #ChrisChristie blasts sanctu...</td>\n",
       "    </tr>\n",
       "    <tr>\n",
       "      <th>1</th>\n",
       "      <td>1</td>\n",
       "      <td>Even the media doesn't get it,  No one won las...</td>\n",
       "    </tr>\n",
       "    <tr>\n",
       "      <th>2</th>\n",
       "      <td>0</td>\n",
       "      <td>RT @RWSurferGirl: We the American people pick ...</td>\n",
       "    </tr>\n",
       "    <tr>\n",
       "      <th>3</th>\n",
       "      <td>0</td>\n",
       "      <td>RT @jamiaw: \"The purpose of the military is to...</td>\n",
       "    </tr>\n",
       "    <tr>\n",
       "      <th>4</th>\n",
       "      <td>0</td>\n",
       "      <td>#GOPDebate Maybe they were right to try &amp;amp; ...</td>\n",
       "    </tr>\n",
       "  </tbody>\n",
       "</table>\n",
       "</div>"
      ],
      "text/plain": [
       "   Sentiment                                               Text\n",
       "0          0  RT @NoChristie16: #ChrisChristie blasts sanctu...\n",
       "1          1  Even the media doesn't get it,  No one won las...\n",
       "2          0  RT @RWSurferGirl: We the American people pick ...\n",
       "3          0  RT @jamiaw: \"The purpose of the military is to...\n",
       "4          0  #GOPDebate Maybe they were right to try &amp; ..."
      ]
     },
     "execution_count": 8,
     "metadata": {},
     "output_type": "execute_result"
    }
   ],
   "source": [
    "df = train_data[['sentiment', 'text']]\n",
    "print(df.shape)\n",
    "df.columns = ['Sentiment', 'Text']\n",
    "df['Sentiment'] = df['Sentiment'].map({'Negative':0, 'Neutral':2, 'Positive':1})\n",
    "df = df.sample(frac=1, random_state=0)\n",
    "df.reset_index(drop=True, inplace=True)\n",
    "df.head()"
   ]
  },
  {
   "cell_type": "code",
   "execution_count": 9,
   "metadata": {},
   "outputs": [
    {
     "data": {
      "image/png": "[encoded data removed]",
      "text/plain": [
       "<Figure size 864x432 with 1 Axes>"
      ]
     },
     "metadata": {
      "needs_background": "light"
     },
     "output_type": "display_data"
    }
   ],
   "source": [
    "plt.figure(figsize=(12,6))\n",
    "sns.barplot(df['Sentiment'].value_counts().index, df['Sentiment'].value_counts());"
   ]
  },
  {
   "cell_type": "code",
   "execution_count": 10,
   "metadata": {},
   "outputs": [
    {
     "data": {
      "text/html": [
       "<div>\n",
       "<style scoped>\n",
       "    .dataframe tbody tr th:only-of-type {\n",
       "        vertical-align: middle;\n",
       "    }\n",
       "\n",
       "    .dataframe tbody tr th {\n",
       "        vertical-align: top;\n",
       "    }\n",
       "\n",
       "    .dataframe thead th {\n",
       "        text-align: right;\n",
       "    }\n",
       "</style>\n",
       "<table border=\"1\" class=\"dataframe\">\n",
       "  <thead>\n",
       "    <tr style=\"text-align: right;\">\n",
       "      <th></th>\n",
       "      <th>Sentiment</th>\n",
       "      <th>Text</th>\n",
       "      <th>Clean_Text</th>\n",
       "    </tr>\n",
       "  </thead>\n",
       "  <tbody>\n",
       "    <tr>\n",
       "      <th>0</th>\n",
       "      <td>0</td>\n",
       "      <td>RT @NoChristie16: #ChrisChristie blasts sanctu...</td>\n",
       "      <td>chrischristie blast sanctuary city nose nj gop...</td>\n",
       "    </tr>\n",
       "    <tr>\n",
       "      <th>1</th>\n",
       "      <td>1</td>\n",
       "      <td>Even the media doesn't get it,  No one won las...</td>\n",
       "      <td>even medium last night men base carly star</td>\n",
       "    </tr>\n",
       "    <tr>\n",
       "      <th>2</th>\n",
       "      <td>0</td>\n",
       "      <td>RT @RWSurferGirl: We the American people pick ...</td>\n",
       "      <td>american_people_pick next president fox news g...</td>\n",
       "    </tr>\n",
       "    <tr>\n",
       "      <th>3</th>\n",
       "      <td>0</td>\n",
       "      <td>RT @jamiaw: \"The purpose of the military is to...</td>\n",
       "      <td>purpose military kill_people break_things_mike...</td>\n",
       "    </tr>\n",
       "    <tr>\n",
       "      <th>4</th>\n",
       "      <td>0</td>\n",
       "      <td>#GOPDebate Maybe they were right to try &amp;amp; ...</td>\n",
       "      <td>gopdebate maybe right try amp destroy obama st...</td>\n",
       "    </tr>\n",
       "  </tbody>\n",
       "</table>\n",
       "</div>"
      ],
      "text/plain": [
       "   Sentiment                                               Text  \\\n",
       "0          0  RT @NoChristie16: #ChrisChristie blasts sanctu...   \n",
       "1          1  Even the media doesn't get it,  No one won las...   \n",
       "2          0  RT @RWSurferGirl: We the American people pick ...   \n",
       "3          0  RT @jamiaw: \"The purpose of the military is to...   \n",
       "4          0  #GOPDebate Maybe they were right to try &amp; ...   \n",
       "\n",
       "                                          Clean_Text  \n",
       "0  chrischristie blast sanctuary city nose nj gop...  \n",
       "1         even medium last night men base carly star  \n",
       "2  american_people_pick next president fox news g...  \n",
       "3  purpose military kill_people break_things_mike...  \n",
       "4  gopdebate maybe right try amp destroy obama st...  "
      ]
     },
     "execution_count": 10,
     "metadata": {},
     "output_type": "execute_result"
    }
   ],
   "source": [
    "text_cleaner = TextCleaner(df)\n",
    "clean_df = text_cleaner.get_clean_text()\n",
    "clean_df.head()"
   ]
  },
  {
   "cell_type": "code",
   "execution_count": 11,
   "metadata": {},
   "outputs": [],
   "source": [
    "X = clean_df['Clean_Text']\n",
    "y = pd.get_dummies(clean_df['Sentiment'])"
   ]
  },
  {
   "cell_type": "code",
   "execution_count": 12,
   "metadata": {},
   "outputs": [
    {
     "data": {
      "image/png": "[encoded data removed]",
      "text/plain": [
       "<Figure size 864x432 with 1 Axes>"
      ]
     },
     "metadata": {
      "needs_background": "light"
     },
     "output_type": "display_data"
    }
   ],
   "source": [
    "plt.figure(figsize=(12,6))\n",
    "plt.hist([len(s.split()) for s in X], 25)\n",
    "plt.xlabel('Length of a sample')\n",
    "plt.ylabel('Number of Samples')\n",
    "plt.title('Sample length distribution')\n",
    "plt.show();"
   ]
  },
  {
   "cell_type": "code",
   "execution_count": 13,
   "metadata": {},
   "outputs": [
    {
     "name": "stdout",
     "output_type": "stream",
     "text": [
      "Ratio of number of samples / number of words per sample: 1981.5714285714287\n"
     ]
    }
   ],
   "source": [
    "no_samples = X.shape[0]\n",
    "no_class = len(clean_df['Sentiment'].unique())\n",
    "no_words_per_sample = np.median([len(s.split()) for s in X])\n",
    "print('Ratio of number of samples / number of words per sample: ' + str(no_samples / no_words_per_sample))"
   ]
  },
  {
   "cell_type": "code",
   "execution_count": 14,
   "metadata": {},
   "outputs": [],
   "source": [
    "def split_data(X, y):\n",
    "    random.seed(0)\n",
    "    x_train, x_test, y_train, y_test = train_test_split(X, y, test_size=0.20, random_state=42)\n",
    "    x_val, x_test, y_val, y_test = train_test_split(x_test, y_test, test_size=0.5, random_state=42)\n",
    "\n",
    "    for sub_df in [x_train, x_val, x_test, y_train, y_val, y_test]:\n",
    "        sub_df.reset_index(drop=True, inplace=True)\n",
    "\n",
    "    return x_train, x_val, x_test, y_train, y_val, y_test"
   ]
  },
  {
   "cell_type": "code",
   "execution_count": 15,
   "metadata": {},
   "outputs": [],
   "source": [
    "train_texts, val_texts, test_texts, train_labels, val_labels, test_labels = split_data(X, y)"
   ]
  },
  {
   "cell_type": "code",
   "execution_count": 16,
   "metadata": {},
   "outputs": [
    {
     "data": {
      "image/png": "[encoded data removed]",
      "text/plain": [
       "<Figure size 1152x432 with 3 Axes>"
      ]
     },
     "metadata": {
      "needs_background": "light"
     },
     "output_type": "display_data"
    }
   ],
   "source": [
    "fig, axs = plt.subplots(ncols=3, figsize=(16,6))\n",
    "sns.barplot(train_labels.idxmax(axis=1).value_counts().index, train_labels.idxmax(axis=1).value_counts(), ax=axs[0])\n",
    "# sns.barplot(train_labels.value_counts().index, train_labels.value_counts(), ax=axs[0])\n",
    "axs[0].set_title('Train Label Distribution')\n",
    "sns.barplot(val_labels.idxmax(axis=1).value_counts().index, val_labels.idxmax(axis=1).value_counts(), ax=axs[1])\n",
    "# sns.barplot(val_labels.value_counts().index, val_labels.value_counts(), ax=axs[1])\n",
    "axs[1].set_title('Validation Label Distribution')\n",
    "sns.barplot(test_labels.idxmax(axis=1).value_counts().index, test_labels.idxmax(axis=1).value_counts(), ax=axs[2])\n",
    "# sns.barplot(test_labels.value_counts().index, test_labels.value_counts(), ax=axs[2 ])\n",
    "axs[2].set_title('Test Label Distribution')\n",
    "plt.show();"
   ]
  },
  {
   "cell_type": "code",
   "execution_count": 17,
   "metadata": {},
   "outputs": [
    {
     "data": {
      "text/plain": [
       "['./artifacts/class_weights.pkl']"
      ]
     },
     "execution_count": 17,
     "metadata": {},
     "output_type": "execute_result"
    }
   ],
   "source": [
    "max_sequence_length = min(int(np.percentile([len(s.split()) for s in train_texts.append(\n",
    "    [val_texts, test_texts], ignore_index=True)], 95)), 600)\n",
    "    \n",
    "class_weights = compute_class_weight('balanced', np.unique(train_labels.idxmax(axis=1)), train_labels.idxmax(axis=1))\n",
    "class_weights_dict = dict(zip(np.unique(train_labels.idxmax(axis=1)), class_weights))\n",
    "joblib.dump(class_weights_dict, FILE_DIR + 'class_weights.pkl')"
   ]
  },
  {
   "cell_type": "code",
   "execution_count": 18,
   "metadata": {},
   "outputs": [],
   "source": [
    "def generate_ngrams_embeddings_sequence(model_list):\n",
    "    if 'MLP' in model_list:\n",
    "        print('Computing ngram vectors...')\n",
    "        global train_ng, val_ng, test_ng, train_labels\n",
    "        train_ng, train_labels, val_ng, test_ng = ngram_vectorize(train_texts, train_labels, val_texts, test_texts)\n",
    "    if 'CNN_BiLSTM' in model_list:\n",
    "        print('Computing embedding matrix...')\n",
    "        global train_vec, val_vec, test_vec\n",
    "        train_vec, val_vec, test_vec = generate_embedding_matrix(train_texts, val_texts, test_texts)\n",
    "    if 'LSTM' in model_list:\n",
    "        print('Generating sequence vectors...')\n",
    "        global train_seq, val_seq, test_seq, word_index\n",
    "        train_seq, val_seq, test_seq, word_index = sequence_vectorize(train_texts, val_texts, test_texts, max_sequence_length=600)"
   ]
  },
  {
   "cell_type": "code",
   "execution_count": 19,
   "metadata": {},
   "outputs": [],
   "source": [
    "def get_right_train_val(model):\n",
    "    if model == 'MLP':\n",
    "        train_x = train_ng.toarray()\n",
    "        val_x = val_ng.toarray()\n",
    "    elif model == 'CNN_BiLSTM':\n",
    "        train_x = train_vec\n",
    "        val_x = val_vec\n",
    "    else:\n",
    "        train_x = train_seq\n",
    "        val_x = val_seq\n",
    "    \n",
    "    train_y = train_labels.to_numpy()\n",
    "    val_y = val_labels.to_numpy()\n",
    "    \n",
    "    return train_x, train_y, val_x, val_y"
   ]
  },
  {
   "cell_type": "code",
   "execution_count": 20,
   "metadata": {},
   "outputs": [],
   "source": [
    "def get_right_test(model):\n",
    "    if model == 'MLP':\n",
    "        test_x = test_ng.toarray()\n",
    "    elif model == 'CNN_BiLSTM':\n",
    "        test_x = test_vec\n",
    "    else:\n",
    "        test_x = test_seq\n",
    "    \n",
    "    test_y = test_labels\n",
    "    \n",
    "    return test_x, test_y"
   ]
  },
  {
   "cell_type": "code",
   "execution_count": 21,
   "metadata": {},
   "outputs": [],
   "source": [
    "def _get_last_layer_units_and_activation(num_classes):\n",
    "    \"\"\"Gets the #units and activation frunction for the last network layer.\n",
    "\n",
    "    #Arguments\n",
    "        num_classes: int, number of classes.\n",
    "\n",
    "    # Returns\n",
    "        units, activation values.\n",
    "    \"\"\"\n",
    "    if num_classes == 2:\n",
    "        activation = 'sigmoid'\n",
    "        units = 1\n",
    "    else:\n",
    "        activation = 'softmax'\n",
    "        units = num_classes\n",
    "    return units, activation"
   ]
  },
  {
   "cell_type": "code",
   "execution_count": 22,
   "metadata": {},
   "outputs": [],
   "source": [
    "def get_model(params):\n",
    "    num_classes = train_labels.value_counts().shape[0]\n",
    "    output_dim = 128\n",
    "    kernels = params['kernel_size']\n",
    "    pool_size= 2\n",
    "    \n",
    "    op_units, op_activation = _get_last_layer_units_and_activation(num_classes)\n",
    "    \n",
    "    if num_classes == 2:\n",
    "        loss = 'binary_crossentropy'\n",
    "    else:\n",
    "        loss = 'categorical_crossentropy'\n",
    "    \n",
    "    if params['model_type'] == 'MLP':\n",
    "        input_shape = train_ng.shape[1:]\n",
    "        \n",
    "        input_layer = Input(shape=input_shape)\n",
    "        x = Dense(units=params['neurons'], use_bias=False)(input_layer)\n",
    "        x = BatchNormalization()(x)\n",
    "        x = Activation(params['activation'])(x)\n",
    "        x = Dropout(rate=params['dropout_rate'])(x)\n",
    "        for _ in range(params['layers'] - 1):\n",
    "            x = Dense(units=params['neurons'] * 2, use_bias=False)(x)\n",
    "            x = BatchNormalization()(x)\n",
    "            x = Activation(params['activation'])(x)\n",
    "            x = Dropout(rate=params['dropout_rate'])(x)\n",
    "        output_layer = Dense(units=op_units, activation=op_activation)(x)\n",
    "        \n",
    "        model = Model(input_layer, output_layer)\n",
    "        optimizer = optimizers.Adam(lr=params['lr'], clipnorm=1.0)\n",
    "        \n",
    "        # Compile model\n",
    "        model.compile(loss=loss, optimizer=optimizer, metrics=['acc'])\n",
    "        \n",
    "    elif params['model_type'] == 'CNN_BiLSTM':\n",
    "        vector_size = (train_vec.shape[1], train_vec.shape[2])\n",
    "        \n",
    "        input_layer = Input(shape=vector_size)\n",
    "        x = Conv1D(filters=params['neurons'], kernel_size=kernels, padding='same', bias_initializer='random_uniform',\n",
    "                  use_bias=False)(input_layer)\n",
    "        x = MaxPooling1D(pool_size=pool_size)(x)\n",
    "        x = Bidirectional(LSTM(units=params['neurons'], dropout=params['dropout_rate'],\n",
    "                              recurrent_dropout=params['dropout_rate']))(x)\n",
    "        for _ in range(params['layers'] - 1):\n",
    "            x = Dense(units=params['neurons'] * 2, use_bias=False)(x)\n",
    "            x = BatchNormalization()(x)\n",
    "            x = Activation(params['activation'])(x)\n",
    "            x = Dropout(rate=params['dropout_rate'])(x)\n",
    "        output_layer = Dense(units=op_units, activation=op_activation)(x)\n",
    "        \n",
    "        model = Model(input_layer, output_layer)\n",
    "        optimizer = optimizers.Adam(lr=params['lr'], clipnorm=1.0)\n",
    "        \n",
    "        # Compile model\n",
    "        model.compile(loss=loss, optimizer=optimizer, metrics=['acc'])\n",
    "        \n",
    "    else:\n",
    "        input_dim = len(word_index) + 1\n",
    "        \n",
    "        input_layer = Input(shape=(max_sequence_length,))\n",
    "        x = Embedding(input_dim=input_dim, output_dim=output_dim, input_length=max_sequence_length)(input_layer)\n",
    "        x = Dropout(rate=params['dropout_rate'])(x)\n",
    "        x = LSTM(units=params['neurons'])(x)\n",
    "        for _ in range(params['layers'] - 1):\n",
    "            x = Dense(units=params['neurons'] * 2, use_bias=False)(x)\n",
    "            x = BatchNormalization()(x)\n",
    "            x = Activation(params['activation'])(x)\n",
    "            x = Dropout(rate=params['dropout_rate'])(x)\n",
    "        output_layer = Dense(units=op_units, activation=op_activation)(x)\n",
    "        \n",
    "        model = Model(input_layer, output_layer)\n",
    "        optimizer = optimizers.Adam(lr=params['lr'], clipnorm=0.1)\n",
    "        \n",
    "        # Compile model\n",
    "        model.compile(loss=loss, optimizer=optimizer, metrics=['acc'])\n",
    "        \n",
    "    return model"
   ]
  },
  {
   "cell_type": "code",
   "execution_count": 23,
   "metadata": {},
   "outputs": [],
   "source": [
    "def trainModel(params, verbose=0):\n",
    "    best_weights_model_filepath = FILE_DIR + \"best_train_weights_model.h5\"\n",
    "    \n",
    "#     strategy = tf.distribute.MirroredStrategy()\n",
    "#     with strategy.scope():\n",
    "    print('Getting model...')\n",
    "    model = get_model(params)\n",
    "    cbks = [\n",
    "        ModelCheckpoint(best_weights_model_filepath, monitor='val_loss', save_best_only=True,\n",
    "                       save_weights_only=False, verbose=verbose, save_freq='epoch'),\n",
    "        EarlyStopping(monitor='val_loss', patience=20, restore_best_weights=False, min_delta=0.001, verbose=verbose),\n",
    "        ReduceLROnPlateau(monitor='val_loss', factor=0.2, patience=5, min_lr=0.000001, verbose=verbose)            \n",
    "    ]\n",
    "\n",
    "    # Choose appropriate training and validation data\n",
    "    train_x, train_y, val_x, val_y = get_right_train_val(params['model_type'])\n",
    "    print('fitting model...')\n",
    "    model.fit(train_x, train_y, validation_data=(val_x, val_y),\n",
    "             epochs=500,\n",
    "             batch_size=params['batch_size'],\n",
    "             class_weight=class_weights,\n",
    "             callbacks=cbks,\n",
    "             validation_freq=1,\n",
    "             verbose=verbose)\n",
    "    \n",
    "    best_weight_model = models.load_model(best_weights_model_filepath)\n",
    "    \n",
    "    return best_weight_model"
   ]
  },
  {
   "cell_type": "code",
   "execution_count": 24,
   "metadata": {},
   "outputs": [],
   "source": [
    "def get_params_space():\n",
    "    activation = ['relu']\n",
    "    lr = [0.00001, 0.0001, 0.0001, 0.01, 0.1]\n",
    "    dropout_rate = [0, 0.5]\n",
    "    neurons = [16, 32, 64, 128]\n",
    "    epochs = [50]\n",
    "    batch_size = [128, 256, 512]\n",
    "    layers = [2, 4]\n",
    "    kernel_size = [3, 5, 7]\n",
    "    params_space = {\n",
    "        'model_type': hp.choice('model_type', model_type_list),\n",
    "        'activation': hp.choice('activation', activation),\n",
    "        'lr': hp.choice('lr', lr),\n",
    "        'neurons': hp.choice('neurons', neurons),\n",
    "        'layers': hp.choice('layers', layers),\n",
    "        'kernel_size': hp.choice('kernel_size', kernel_size),\n",
    "        'epochs': hp.choice('epcohs', epochs),\n",
    "        'batch_size': hp.choice('batch_size', batch_size),\n",
    "        'dropout_rate': hp.choice('dropout_rate', dropout_rate)\n",
    "    }\n",
    "    \n",
    "    return params_space"
   ]
  },
  {
   "cell_type": "code",
   "execution_count": 25,
   "metadata": {},
   "outputs": [],
   "source": [
    "def objective(params, verbose=0):\n",
    "    best_weights_model_filepath = FILE_DIR + 'best_weights_model.h5'\n",
    "    \n",
    "#     strategy = tf.distribute.MirroredStrategy()\n",
    "#     with strategy.scope():\n",
    "        \n",
    "    # get model\n",
    "    model = get_model(params)\n",
    "\n",
    "    # add callback for efficient tuning\n",
    "    cbks = [\n",
    "        ModelCheckpoint(best_weights_model_filepath, monitor='val_loss', save_best_only=True,\n",
    "                       save_weights_only=False, verbose=verbose, save_freq='epoch'),\n",
    "        EarlyStopping(monitor='val_loss', patience=10, restore_best_weights=False, min_delta=0.001, verbose=verbose)            \n",
    "    ]\n",
    "\n",
    "    # choose appropriate training data and validation data\n",
    "    train_x, train_y, val_x, val_y = get_right_train_val(params['model_type'])\n",
    "\n",
    "    history1 = model.fit(train_x, train_y, validation_data=(val_x, val_y),\n",
    "                         epochs=params['epochs'],\n",
    "                         batch_size=params['batch_size'],\n",
    "                         class_weight=class_weights,\n",
    "                         callbacks=cbks,\n",
    "                         validation_freq=1,\n",
    "                         verbose=verbose)\n",
    "\n",
    "    best_weights_model = models.load_model(best_weights_model_filepath)\n",
    "    history = history1.history\n",
    "    loss = min(history['val_loss'])\n",
    "    acc = max(history['val_acc'])\n",
    "    train_acc_history = history['acc']\n",
    "    val_acc_history = history['val_acc']\n",
    "    train_loss_history = history['loss']\n",
    "    val_loss_history = history['val_loss']\n",
    "\n",
    "    return {'loss': loss, 'status': STATUS_OK, 'trained_model': best_weights_model, 'acc': acc,\n",
    "           'train_acc_history': train_acc_history, 'val_acc_history': val_acc_history,\n",
    "           'train_loss_history': train_loss_history, 'val_loss_history': val_loss_history}"
   ]
  },
  {
   "cell_type": "code",
   "execution_count": 26,
   "metadata": {},
   "outputs": [],
   "source": [
    "def unpack_hyperopt_vals(vals):\n",
    "    \"\"\"Unpack values from a hyperopt return dictionary where values are wrapped in a list.\n",
    "    \n",
    "    :param vals: dict\n",
    "    :return: dict:copy of the dictionary with unpacked values\n",
    "    \"\"\"\n",
    "    \n",
    "    assert isinstance(vals, dict), \"parameter must be given as dict.\"\n",
    "    ret = {}\n",
    "    for k, v in list(vals.items()):\n",
    "        try:\n",
    "            ret[k] = v[0]\n",
    "        except (TypeError, IndexError):\n",
    "            ret[k] = v\n",
    "    return ret"
   ]
  },
  {
   "cell_type": "code",
   "execution_count": 27,
   "metadata": {},
   "outputs": [],
   "source": [
    "def train_model_tune_parameters(space):\n",
    "    runs = Trials()\n",
    "    best = fmin(objective, space, algo=tpe.suggest, trials=runs, max_evals=200, rstate=np.random.RandomState(42))\n",
    "    best_params = space_eval(space, best)\n",
    "    \n",
    "    print('\\nBest model type selected: ' + best_params['model_type'])\n",
    "    print('\\nBest model params: ' + json.dumps(best_params, indent=4))\n",
    "    \n",
    "    return runs, best, best_params"
   ]
  },
  {
   "cell_type": "code",
   "execution_count": 28,
   "metadata": {},
   "outputs": [],
   "source": [
    "def getBestResultfromTrials(bestrun, trials):\n",
    "    for i, trial in enumerate(trials):\n",
    "        vals = trial.get('misc').get('vals')\n",
    "        # unpack the values from list without overwriting the mutable dict within trial'\n",
    "        unpacked_vals = unpack_hyperopt_vals(vals)\n",
    "        # identify the best run (comes with unpacked values from the hyperopt function `base.Trials.argmin`)\n",
    "        if unpacked_vals == bestrun and 'trained_model' in trial.get('result').keys():\n",
    "            best_trial_obj = trial\n",
    "            break\n",
    "    del bestrun, trials\n",
    "    return best_trial_obj.get('result')"
   ]
  },
  {
   "cell_type": "code",
   "execution_count": 29,
   "metadata": {},
   "outputs": [],
   "source": [
    "def predict(model, tokens):\n",
    "    pred_proba = model.predict(tokens)\n",
    "    if pred_proba.shape[1] == 3:\n",
    "        predictions = pred_proba.argmax(axis=-1)\n",
    "    else:\n",
    "        predictions = np.array([0 if proba[0] < 0.5 else 1 for proba in pred_proba])\n",
    "    preds = predictions\n",
    "    del tokens, predictions\n",
    "    return preds"
   ]
  },
  {
   "cell_type": "code",
   "execution_count": 30,
   "metadata": {},
   "outputs": [],
   "source": [
    "def print_metrices(predictions, y):\n",
    "    if y.unique().shape[0] == 3:\n",
    "        predictions = np.where(predictions == 0, -1, predictions)\n",
    "        predictions = np.where(predictions == 2, 0, predictions)\n",
    "        y.replace(0, -1, inplace=True)\n",
    "        y.replace(2, 0, inplace=True)\n",
    "    else:\n",
    "        predictions = np.where(predictions == 0, -1, predictions)\n",
    "        y.replace(0, -1, inplace=True)\n",
    "        \n",
    "    print('Prediction Accuracy, F1 Score, Cohen Kappa Score and Classification report for test set\\n')\n",
    "    print('F1 Score: ', f1_score(y, predictions, average=None))\n",
    "    print('Cohen Kappa Score: ', cohen_kappa_score(y, predictions))\n",
    "    print('\\nClassification Report: \\n', classification_report(y, predictions))"
   ]
  },
  {
   "cell_type": "code",
   "execution_count": 35,
   "metadata": {},
   "outputs": [],
   "source": [
    "from sklearn.neighbors import KNeighborsRegressor\n",
    "def plot_accuracy_per_step(tuned_trials):\n",
    "    y = np.array([t['acc'] for t in tuned_trials.results])\n",
    "    x = np.arange(1, len(y) + 1, 1)\n",
    "    \n",
    "    y_max = np.max(y)\n",
    "    best_y = y[y == y_max]\n",
    "    best_y_xs = x[y == y_max]\n",
    "    \n",
    "    # just to calculate a locally weighted average\n",
    "    reg = KNeighborsRegressor()\n",
    "    reg.fit(x.reshape(-1,1), y)\n",
    "    preds = reg.predict(x.reshape(-1, 1))\n",
    "    \n",
    "    plt.figure(figsize=(12,6))\n",
    "    plt.plot(x, y, 'go', alpha=0.5)\n",
    "    plt.plot(best_y_xs, best_y, 'ro')\n",
    "    plt.plot(x, preds, '--')\n",
    "    \n",
    "    plt.ylabel('Accuracy')\n",
    "    plt.xlabel('Iteration')\n",
    "    plt.title('Accuracy Per Step')\n",
    "    plt.show();"
   ]
  },
  {
   "cell_type": "code",
   "execution_count": 33,
   "metadata": {},
   "outputs": [],
   "source": [
    "def plot_train_val_acc_loss(best_trial_result):\n",
    "    epoch_list = list(range(1, len(best_trial_result['train_acc_history']) + 1))\n",
    "    \n",
    "    fig, [ax1,ax2] = plt.subplots(ncols=2, figsize=(16,6))\n",
    "    \n",
    "    train, val = ax1.plot(epoch_list, best_trial_result['train_acc_history'], epoch_list, best_trial_result['val_acc_history'])\n",
    "    ax1.set_title('Train/Val Accuracy')\n",
    "    ax1.legend((train, val),('Training Accuracy', 'Validation Accuracy'))\n",
    "    ax1.set_ylabel('Accuracy')\n",
    "    ax1.set_xlabel('Epochs')\n",
    "    \n",
    "    train, val = ax2.plot(epoch_list, best_trial_result['train_loss_history'], epoch_list, best_trial_result['val_loss_history'])\n",
    "    ax2.set_title('Train/Val Loss')\n",
    "    ax2.legend((train, val), ('Training Loss', 'Validation Loss'))\n",
    "    ax2.set_ylabel('Loss')\n",
    "    ax2.set_xlabel('Epochs')"
   ]
  },
  {
   "cell_type": "code",
   "execution_count": 37,
   "metadata": {},
   "outputs": [],
   "source": [
    "model_type_list = ['MLP']"
   ]
  },
  {
   "cell_type": "code",
   "execution_count": 36,
   "metadata": {},
   "outputs": [
    {
     "data": {
      "image/png": "[encoded data removed]",
      "text/plain": [
       "<Figure size 864x432 with 1 Axes>"
      ]
     },
     "metadata": {
      "needs_background": "light"
     },
     "output_type": "display_data"
    },
    {
     "name": "stdout",
     "output_type": "stream",
     "text": [
      "Tuning completed...\n"
     ]
    },
    {
     "data": {
      "image/png": "[encoded data removed]",
      "text/plain": [
       "<Figure size 1152x432 with 2 Axes>"
      ]
     },
     "metadata": {
      "needs_background": "light"
     },
     "output_type": "display_data"
    }
   ],
   "source": [
    "# Hyper-parameter tuning\n",
    "print(f'Models(s) selected for tuning: {model_type_list}')\n",
    "generate_ngrams_embeddings_sequence(model_type_list)\n",
    "param_space = get_params_space()\n",
    "tuned_trials, best_run, tuned_params = train_model_tune_parameters(param_space)\n",
    "plot_accuracy_per_step(tuned_trials)\n",
    "joblib.dump(tuned_params, FILE_DIR + 'best_params.pkl')\n",
    "best_trial_result = getBestResultfromTrials(best_run, tuned_trials)\n",
    "plot_train_val_acc_loss(best_trial_result)\n",
    "best_model = best_trial_result['trained_model']\n",
    "# best_model.save(FILE_DIR + 'best_model.h5')\n",
    "print('Tuning completed...')"
   ]
  },
  {
   "cell_type": "code",
   "execution_count": 39,
   "metadata": {},
   "outputs": [
    {
     "name": "stdout",
     "output_type": "stream",
     "text": [
      "Model selected for training: MLP\n",
      "Getting model...\n",
      "fitting model...\n",
      "Prediction Accuracy, F1 Score, Cohen Kappa Score and Classification report for test set\n",
      "\n",
      "F1 Score:  [0.78993435 0.42402827 0.46596859]\n",
      "Cohen Kappa Score:  0.3510608041609631\n",
      "\n",
      "Classification Report: \n",
      "               precision    recall  f1-score   support\n",
      "\n",
      "          -1       0.76      0.83      0.79       872\n",
      "           0       0.44      0.41      0.42       293\n",
      "           1       0.56      0.40      0.47       223\n",
      "\n",
      "    accuracy                           0.67      1388\n",
      "   macro avg       0.58      0.55      0.56      1388\n",
      "weighted avg       0.66      0.67      0.66      1388\n",
      "\n"
     ]
    }
   ],
   "source": [
    "# Training with tuned parameters\n",
    "tuned_params = joblib.load(FILE_DIR + 'best_params.pkl')\n",
    "model_type = tuned_params['model_type']\n",
    "print(f'Model selected for training: {model_type}')\n",
    "# generate_ngrams_embeddings_sequence([model_type])\n",
    "trained_model = trainModel(tuned_params, verbose=0)\n",
    "test_tokens, test_labels = get_right_test(model_type)\n",
    "preds_test = predict(trained_model, test_tokens)\n",
    "print_metrices(preds_test, test_labels.idxmax(axis=1))\n",
    "trained_model.save(FILE_DIR + 'best_model.h5')"
   ]
  },
  {
   "cell_type": "code",
   "execution_count": null,
   "metadata": {},
   "outputs": [],
   "source": []
  }
 ],
 "metadata": {
  "kernelspec": {
   "display_name": "nlp",
   "language": "python",
   "name": "nlp"
  },
  "language_info": {
   "codemirror_mode": {
    "name": "ipython",
    "version": 3
   },
   "file_extension": ".py",
   "mimetype": "text/x-python",
   "name": "python",
   "nbconvert_exporter": "python",
   "pygments_lexer": "ipython3",
   "version": "3.6.5"
  }
 },
 "nbformat": 4,
 "nbformat_minor": 2
}
