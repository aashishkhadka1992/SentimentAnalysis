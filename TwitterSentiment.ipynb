{
 "cells": [
  {
   "cell_type": "code",
   "execution_count": 1,
   "metadata": {},
   "outputs": [],
   "source": [
    "import numpy as np\n",
    "import pandas as pd\n",
    "import matplotlib.pyplot as plt\n",
    "%matplotlib inline\n",
    "import json\n",
    "import re\n",
    "import Twitter_Credentials as tc"
   ]
  },
  {
   "cell_type": "code",
   "execution_count": 2,
   "metadata": {},
   "outputs": [],
   "source": [
    "import tweepy\n",
    "from tweepy import OAuthHandler\n",
    "import spacy\n",
    "from textblob import TextBlob"
   ]
  },
  {
   "cell_type": "code",
   "execution_count": 3,
   "metadata": {},
   "outputs": [],
   "source": [
    "auth = OAuthHandler(tc.consumer_key,tc.consumer_secret_key)\n",
    "auth.set_access_token(tc.access_key,tc.access_secret_key)\n",
    "\n",
    "api = tweepy.API(auth,proxy='https://webproxyjb.fpl.com:8080')"
   ]
  },
  {
   "cell_type": "code",
   "execution_count": 4,
   "metadata": {},
   "outputs": [],
   "source": [
    "keywords = ['Nextera Energy','Florida Power and Light','Renewable Energy','Wind Farm','Solar Farm','Solar Energy'\\\n",
    "         ,'Wind Energy','Alternative Energy']"
   ]
  },
  {
   "cell_type": "code",
   "execution_count": 5,
   "metadata": {},
   "outputs": [],
   "source": [
    "def clean_tweet(tweet):\n",
    "    return ' '.join(re.sub(\"(@[A-Za-z0-9]+)|([^0-9A-Za-z \\t])\\\n",
    "                            |(\\w+:\\/\\/\\S+)\",\" \",tweet).split())"
   ]
  },
  {
   "cell_type": "code",
   "execution_count": 6,
   "metadata": {},
   "outputs": [],
   "source": [
    "def tweet_sentiment(tweet):\n",
    "    analysis = TextBlob(clean_tweet(tweet))\n",
    "    polarity_score = analysis.sentiment.polarity\n",
    "    if polarity_score > 0:\n",
    "        return ['positive', polarity_score]\n",
    "    elif polarity_score == 0:\n",
    "        return ['neutral',polarity_score]\n",
    "    else:\n",
    "        return ['negative',polarity_score]"
   ]
  },
  {
   "cell_type": "code",
   "execution_count": 7,
   "metadata": {},
   "outputs": [],
   "source": [
    "def get_tweets(keywords):\n",
    "    tweets=[]\n",
    "    \n",
    "    try:\n",
    "        for i in range(len(keywords)):\n",
    "            results = api.search(q=keywords[i])\n",
    "            for tweet in results:\n",
    "                try:\n",
    "                    if tweet.retweeted_status:\n",
    "                        continue\n",
    "                        \n",
    "                except AttributeError:\n",
    "                        parsed_tweet = {}\n",
    "                        parsed_tweet['text'] = tweet.text\n",
    "                        parsed_tweet['sentiment'] = tweet_sentiment(tweet.text)[0]\n",
    "                        parsed_tweet['polarity_score'] = tweet_sentiment(tweet.text)[1]\n",
    "                        parsed_tweet['geo_loc'] = tweet.coordinates\n",
    "                        parsed_tweet['tweet_date'] = tweet.created_at\n",
    "                        tweets.append(parsed_tweet)\n",
    "\n",
    "        return tweets\n",
    "    \n",
    "    except tweepy.TweepError as e:\n",
    "        print('Error : ' + str(e))\n",
    "\n",
    "                "
   ]
  },
  {
   "cell_type": "code",
   "execution_count": 8,
   "metadata": {},
   "outputs": [],
   "source": [
    "df = pd.DataFrame(get_tweets(keywords))"
   ]
  },
  {
   "cell_type": "code",
   "execution_count": 9,
   "metadata": {},
   "outputs": [
    {
     "data": {
      "text/html": [
       "<div>\n",
       "<style scoped>\n",
       "    .dataframe tbody tr th:only-of-type {\n",
       "        vertical-align: middle;\n",
       "    }\n",
       "\n",
       "    .dataframe tbody tr th {\n",
       "        vertical-align: top;\n",
       "    }\n",
       "\n",
       "    .dataframe thead th {\n",
       "        text-align: right;\n",
       "    }\n",
       "</style>\n",
       "<table border=\"1\" class=\"dataframe\">\n",
       "  <thead>\n",
       "    <tr style=\"text-align: right;\">\n",
       "      <th></th>\n",
       "      <th>geo_loc</th>\n",
       "      <th>polarity_score</th>\n",
       "      <th>sentiment</th>\n",
       "      <th>text</th>\n",
       "      <th>tweet_date</th>\n",
       "    </tr>\n",
       "  </thead>\n",
       "  <tbody>\n",
       "    <tr>\n",
       "      <th>0</th>\n",
       "      <td>None</td>\n",
       "      <td>0.600</td>\n",
       "      <td>positive</td>\n",
       "      <td>Nextera Energy $NEE Stock Value Rose While Adv...</td>\n",
       "      <td>2019-03-29 13:00:12</td>\n",
       "    </tr>\n",
       "    <tr>\n",
       "      <th>1</th>\n",
       "      <td>None</td>\n",
       "      <td>0.075</td>\n",
       "      <td>positive</td>\n",
       "      <td>First Solar, NextEra Energy Resources Celebrat...</td>\n",
       "      <td>2019-03-29 12:59:16</td>\n",
       "    </tr>\n",
       "    <tr>\n",
       "      <th>2</th>\n",
       "      <td>None</td>\n",
       "      <td>0.000</td>\n",
       "      <td>neutral</td>\n",
       "      <td>Weiss Asset Management LP Raised Nextera Energ...</td>\n",
       "      <td>2019-03-29 12:51:43</td>\n",
       "    </tr>\n",
       "    <tr>\n",
       "      <th>3</th>\n",
       "      <td>None</td>\n",
       "      <td>0.000</td>\n",
       "      <td>neutral</td>\n",
       "      <td>Bank Of Montreal Boosted Its Holding in Carlyl...</td>\n",
       "      <td>2019-03-29 12:46:32</td>\n",
       "    </tr>\n",
       "    <tr>\n",
       "      <th>4</th>\n",
       "      <td>None</td>\n",
       "      <td>0.000</td>\n",
       "      <td>neutral</td>\n",
       "      <td>@carloslcurbelo @mattgaetz Gaetz doesn’t know ...</td>\n",
       "      <td>2019-03-29 12:43:45</td>\n",
       "    </tr>\n",
       "  </tbody>\n",
       "</table>\n",
       "</div>"
      ],
      "text/plain": [
       "  geo_loc  polarity_score sentiment  \\\n",
       "0    None           0.600  positive   \n",
       "1    None           0.075  positive   \n",
       "2    None           0.000   neutral   \n",
       "3    None           0.000   neutral   \n",
       "4    None           0.000   neutral   \n",
       "\n",
       "                                                text          tweet_date  \n",
       "0  Nextera Energy $NEE Stock Value Rose While Adv... 2019-03-29 13:00:12  \n",
       "1  First Solar, NextEra Energy Resources Celebrat... 2019-03-29 12:59:16  \n",
       "2  Weiss Asset Management LP Raised Nextera Energ... 2019-03-29 12:51:43  \n",
       "3  Bank Of Montreal Boosted Its Holding in Carlyl... 2019-03-29 12:46:32  \n",
       "4  @carloslcurbelo @mattgaetz Gaetz doesn’t know ... 2019-03-29 12:43:45  "
      ]
     },
     "execution_count": 9,
     "metadata": {},
     "output_type": "execute_result"
    }
   ],
   "source": [
    "df.head()"
   ]
  },
  {
   "cell_type": "code",
   "execution_count": 10,
   "metadata": {},
   "outputs": [
    {
     "data": {
      "text/plain": [
       "(84, 5)"
      ]
     },
     "execution_count": 10,
     "metadata": {},
     "output_type": "execute_result"
    }
   ],
   "source": [
    "df.shape"
   ]
  },
  {
   "cell_type": "code",
   "execution_count": 11,
   "metadata": {},
   "outputs": [
    {
     "data": {
      "text/plain": [
       "<matplotlib.axes._subplots.AxesSubplot at 0x2c53a30dfd0>"
      ]
     },
     "execution_count": 11,
     "metadata": {},
     "output_type": "execute_result"
    },
    {
     "data": {
      "image/png": "[encoded data removed]",
      "text/plain": [
       "<Figure size 432x288 with 1 Axes>"
      ]
     },
     "metadata": {
      "needs_background": "light"
     },
     "output_type": "display_data"
    }
   ],
   "source": [
    "df['sentiment'].value_counts().plot(kind='bar')"
   ]
  },
  {
   "cell_type": "code",
   "execution_count": null,
   "metadata": {},
   "outputs": [],
   "source": []
  }
 ],
 "metadata": {
  "kernelspec": {
   "display_name": "Python 3",
   "language": "python",
   "name": "python3"
  },
  "language_info": {
   "codemirror_mode": {
    "name": "ipython",
    "version": 3
   },
   "file_extension": ".py",
   "mimetype": "text/x-python",
   "name": "python",
   "nbconvert_exporter": "python",
   "pygments_lexer": "ipython3",
   "version": "3.7.1"
  }
 },
 "nbformat": 4,
 "nbformat_minor": 2
}
